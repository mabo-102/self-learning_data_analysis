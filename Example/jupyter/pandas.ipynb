{
 "cells": [
  {
   "cell_type": "markdown",
   "metadata": {},
   "source": [
    "# Pandas"
   ]
  },
  {
   "cell_type": "code",
   "execution_count": 1,
   "metadata": {},
   "outputs": [],
   "source": [
    "import pandas as pd"
   ]
  },
  {
   "cell_type": "markdown",
   "metadata": {},
   "source": [
    "# データフレームの作成"
   ]
  },
  {
   "cell_type": "code",
   "execution_count": 2,
   "metadata": {},
   "outputs": [],
   "source": [
    "data = {'Name': ['Alice', 'Bob', 'Charlie', 'David', 'Eva', 'Frank', 'Grace', 'Hank', 'Ivy', 'Jack', 'Kelly', 'Leo', 'Mia', 'Nina', 'Oliver'],\n",
    "        'Age': [25, 30, 35, 28, 40, 32, 37, 29, 31, 33, 36, 27, 38, 26, 39],\n",
    "        'City': ['New York', 'San Francisco', 'Los Angeles', 'New York', 'San Francisco', 'Los Angeles', 'New York', 'San Francisco', 'Los Angeles', 'New York', 'San Francisco', 'Los Angeles', 'New York', 'San Francisco', 'Los Angeles']}\n",
    "\n",
    "df = pd.DataFrame(data)"
   ]
  },
  {
   "cell_type": "markdown",
   "metadata": {},
   "source": [
    "# データフレームの基本的な操作"
   ]
  },
  {
   "cell_type": "code",
   "execution_count": 3,
   "metadata": {},
   "outputs": [
    {
     "name": "stdout",
     "output_type": "stream",
     "text": [
      "First few rows of the DataFrame:\n",
      "      Name  Age           City\n",
      "0    Alice   25       New York\n",
      "1      Bob   30  San Francisco\n",
      "2  Charlie   35    Los Angeles\n",
      "3    David   28       New York\n",
      "4      Eva   40  San Francisco\n",
      "\n",
      "Information about the DataFrame:\n",
      "<class 'pandas.core.frame.DataFrame'>\n",
      "RangeIndex: 15 entries, 0 to 14\n",
      "Data columns (total 3 columns):\n",
      " #   Column  Non-Null Count  Dtype \n",
      "---  ------  --------------  ----- \n",
      " 0   Name    15 non-null     object\n",
      " 1   Age     15 non-null     int64 \n",
      " 2   City    15 non-null     object\n",
      "dtypes: int64(1), object(2)\n",
      "memory usage: 492.0+ bytes\n",
      "None\n",
      "\n",
      "Statistical summary of the DataFrame:\n",
      "            Age\n",
      "count  15.00000\n",
      "mean   32.40000\n",
      "std     4.91063\n",
      "min    25.00000\n",
      "25%    28.50000\n",
      "50%    32.00000\n",
      "75%    36.50000\n",
      "max    40.00000\n"
     ]
    }
   ],
   "source": [
    "print(\"First few rows of the DataFrame:\")\n",
    "print(df.head())\n",
    "\n",
    "print(\"\\nInformation about the DataFrame:\")\n",
    "print(df.info())\n",
    "\n",
    "print(\"\\nStatistical summary of the DataFrame:\")\n",
    "print(df.describe())"
   ]
  },
  {
   "cell_type": "markdown",
   "metadata": {},
   "source": [
    "# データの選択とフィルタリング"
   ]
  },
  {
   "cell_type": "code",
   "execution_count": 4,
   "metadata": {},
   "outputs": [
    {
     "name": "stdout",
     "output_type": "stream",
     "text": [
      "\n",
      "Selected column 'Age':\n",
      "0     25\n",
      "1     30\n",
      "2     35\n",
      "3     28\n",
      "4     40\n",
      "5     32\n",
      "6     37\n",
      "7     29\n",
      "8     31\n",
      "9     33\n",
      "10    36\n",
      "11    27\n",
      "12    38\n",
      "13    26\n",
      "14    39\n",
      "Name: Age, dtype: int64\n",
      "\n",
      "Data where Age is greater than 30:\n",
      "       Name  Age           City\n",
      "2   Charlie   35    Los Angeles\n",
      "4       Eva   40  San Francisco\n",
      "5     Frank   32    Los Angeles\n",
      "6     Grace   37       New York\n",
      "8       Ivy   31    Los Angeles\n",
      "9      Jack   33       New York\n",
      "10    Kelly   36  San Francisco\n",
      "12      Mia   38       New York\n",
      "14   Oliver   39    Los Angeles\n"
     ]
    }
   ],
   "source": [
    "selected_column = df['Age']\n",
    "print(\"\\nSelected column 'Age':\")\n",
    "print(selected_column)\n",
    "\n",
    "filtered_data = df[df['Age'] > 30]\n",
    "print(\"\\nData where Age is greater than 30:\")\n",
    "print(filtered_data)"
   ]
  },
  {
   "cell_type": "markdown",
   "metadata": {},
   "source": [
    "# データの変更と追加"
   ]
  },
  {
   "cell_type": "code",
   "execution_count": 5,
   "metadata": {},
   "outputs": [
    {
     "name": "stdout",
     "output_type": "stream",
     "text": [
      "\n",
      "DataFrame after modifications:\n",
      "       Name  Age           City  Salary\n",
      "0     Alice   25       New York   50000\n",
      "1       Bob   31  San Francisco   60000\n",
      "2   Charlie   35    Los Angeles   70000\n",
      "3     David   28       New York   55000\n",
      "4       Eva   40  San Francisco   62000\n",
      "5     Frank   32    Los Angeles   75000\n",
      "6     Grace   37       New York   68000\n",
      "7      Hank   29  San Francisco   85000\n",
      "8       Ivy   31    Los Angeles   60000\n",
      "9      Jack   33       New York   70000\n",
      "10    Kelly   36  San Francisco   78000\n",
      "11      Leo   27    Los Angeles   59000\n",
      "12      Mia   38       New York   54000\n",
      "13     Nina   26  San Francisco   72000\n",
      "14   Oliver   39    Los Angeles   76000\n"
     ]
    }
   ],
   "source": [
    "df.loc[1, 'Age'] = 31\n",
    "df['Salary'] = [50000, 60000, 70000, 55000, 62000, 75000, 68000, 85000, 60000, 70000, 78000, 59000, 54000, 72000, 76000]\n",
    "\n",
    "print(\"\\nDataFrame after modifications:\")\n",
    "print(df)"
   ]
  },
  {
   "cell_type": "markdown",
   "metadata": {},
   "source": [
    "# データのグループ化と集計"
   ]
  },
  {
   "cell_type": "code",
   "execution_count": 6,
   "metadata": {},
   "outputs": [
    {
     "name": "stdout",
     "output_type": "stream",
     "text": [
      "\n",
      "Grouped data with average Age and Salary:\n",
      "                Age   Salary\n",
      "City                        \n",
      "Los Angeles    32.8  68000.0\n",
      "New York       32.2  59400.0\n",
      "San Francisco  32.4  71400.0\n"
     ]
    }
   ],
   "source": [
    "numeric_columns = df.select_dtypes(include='number')\n",
    "grouped_data = numeric_columns.groupby(df['City']).mean()\n",
    "print(\"\\nGrouped data with average Age and Salary:\")\n",
    "print(grouped_data)"
   ]
  }
 ],
 "metadata": {
  "kernelspec": {
   "display_name": "self-learning_data_analysis",
   "language": "python",
   "name": "python3"
  },
  "language_info": {
   "codemirror_mode": {
    "name": "ipython",
    "version": 3
   },
   "file_extension": ".py",
   "mimetype": "text/x-python",
   "name": "python",
   "nbconvert_exporter": "python",
   "pygments_lexer": "ipython3",
   "version": "3.12.1"
  }
 },
 "nbformat": 4,
 "nbformat_minor": 2
}
